{
 "cells": [
  {
   "cell_type": "code",
   "execution_count": 116,
   "metadata": {},
   "outputs": [],
   "source": [
    "#librerias necesarias\n",
    "import random\n",
    "import numpy as np\n",
    "\n",
    "plt.rcParams['figure.figsize'] = (16, 9)\n",
    "plt.style.use('ggplot')"
   ]
  },
  {
   "cell_type": "code",
   "execution_count": 117,
   "metadata": {},
   "outputs": [
    {
     "name": "stdout",
     "output_type": "stream",
     "text": [
      "Posibles valores: [0, 1, 2, 3, 4, 5, 6, 7, 8, 9, 10, 11, 12, 13, 14, 15, 16, 17, 18, 19, 20, 21, 22, 23, 24, 25, 26, 27, 28, 29, 30, 31, 32, 33, 34, 35, 36] \n",
      "\n",
      "Valor posible con frecuencia inicial 0: [[0, 0], [1, 0], [2, 0], [3, 0], [4, 0], [5, 0], [6, 0], [7, 0], [8, 0], [9, 0], [10, 0], [11, 0], [12, 0], [13, 0], [14, 0], [15, 0], [16, 0], [17, 0], [18, 0], [19, 0], [20, 0], [21, 0], [22, 0], [23, 0], [24, 0], [25, 0], [26, 0], [27, 0], [28, 0], [29, 0], [30, 0], [31, 0], [32, 0], [33, 0], [34, 0], [35, 0], [36, 0]] \n",
      "\n"
     ]
    }
   ],
   "source": [
    "#Posibles números ruleta\n",
    "lista_posible = list(range(37))\n",
    "print('Posibles valores:',lista_posible,'\\n')\n",
    "\n",
    "lista_general = []\n",
    "for i in lista_posible:\n",
    "    #i valor posible, 0 frecuencia absoluta\n",
    "    lista_general.append([i,0])\n",
    "print('Valor posible con frecuencia inicial 0:',lista_general,'\\n')"
   ]
  },
  {
   "cell_type": "code",
   "execution_count": 118,
   "metadata": {},
   "outputs": [
    {
     "name": "stdout",
     "output_type": "stream",
     "text": [
      "Resultado luego de  100000  iteraciones:  [[0, 2600], [1, 2728], [2, 2737], [3, 2651], [4, 2675], [5, 2725], [6, 2861], [7, 2780], [8, 2672], [9, 2661], [10, 2737], [11, 2778], [12, 2699], [13, 2818], [14, 2665], [15, 2651], [16, 2677], [17, 2565], [18, 2738], [19, 2687], [20, 2716], [21, 2585], [22, 2831], [23, 2735], [24, 2654], [25, 2676], [26, 2589], [27, 2756], [28, 2705], [29, 2687], [30, 2655], [31, 2665], [32, 2774], [33, 2728], [34, 2747], [35, 2720], [36, 2672]]\n"
     ]
    }
   ],
   "source": [
    "#Vamos a tirar la ruleta muchas veces para ver qué valores salen\n",
    "cant = 100000\n",
    "for i in range(cant):\n",
    "    numero_sale = random.randrange(37)\n",
    "    for n in lista_general:\n",
    "        #n[0] valor posible\n",
    "        #n[1] cantidad de apariciones\n",
    "        if numero_sale == n[0]:\n",
    "            #incremento cantidad de apariciones\n",
    "            n[1] += 1\n",
    "print('Resultado luego de ',cant,' iteraciones: ',lista_general)"
   ]
  },
  {
   "cell_type": "code",
   "execution_count": 119,
   "metadata": {},
   "outputs": [
    {
     "data": {
      "text/plain": [
       "([<matplotlib.axis.XTick at 0x7fd331de3470>,\n",
       "  <matplotlib.axis.XTick at 0x7fd331eb9128>,\n",
       "  <matplotlib.axis.XTick at 0x7fd331e4f630>,\n",
       "  <matplotlib.axis.XTick at 0x7fd331d45eb8>,\n",
       "  <matplotlib.axis.XTick at 0x7fd331d4d3c8>,\n",
       "  <matplotlib.axis.XTick at 0x7fd331d4d898>,\n",
       "  <matplotlib.axis.XTick at 0x7fd331d4ddd8>,\n",
       "  <matplotlib.axis.XTick at 0x7fd331d55358>,\n",
       "  <matplotlib.axis.XTick at 0x7fd331d55898>,\n",
       "  <matplotlib.axis.XTick at 0x7fd331d55dd8>,\n",
       "  <matplotlib.axis.XTick at 0x7fd331d5c358>,\n",
       "  <matplotlib.axis.XTick at 0x7fd331d5c898>,\n",
       "  <matplotlib.axis.XTick at 0x7fd331d5cdd8>,\n",
       "  <matplotlib.axis.XTick at 0x7fd331d55d30>,\n",
       "  <matplotlib.axis.XTick at 0x7fd331d4d978>,\n",
       "  <matplotlib.axis.XTick at 0x7fd331d65358>,\n",
       "  <matplotlib.axis.XTick at 0x7fd331d65898>,\n",
       "  <matplotlib.axis.XTick at 0x7fd331d65dd8>,\n",
       "  <matplotlib.axis.XTick at 0x7fd331d6c358>,\n",
       "  <matplotlib.axis.XTick at 0x7fd331d6c898>,\n",
       "  <matplotlib.axis.XTick at 0x7fd331d6cdd8>,\n",
       "  <matplotlib.axis.XTick at 0x7fd331d75358>,\n",
       "  <matplotlib.axis.XTick at 0x7fd331d6c7f0>,\n",
       "  <matplotlib.axis.XTick at 0x7fd331d651d0>,\n",
       "  <matplotlib.axis.XTick at 0x7fd331d75748>,\n",
       "  <matplotlib.axis.XTick at 0x7fd331d75c88>,\n",
       "  <matplotlib.axis.XTick at 0x7fd331cfe208>,\n",
       "  <matplotlib.axis.XTick at 0x7fd331cfe748>,\n",
       "  <matplotlib.axis.XTick at 0x7fd331cfec88>,\n",
       "  <matplotlib.axis.XTick at 0x7fd331d06208>,\n",
       "  <matplotlib.axis.XTick at 0x7fd331d06748>,\n",
       "  <matplotlib.axis.XTick at 0x7fd331cfe2b0>,\n",
       "  <matplotlib.axis.XTick at 0x7fd331d75710>,\n",
       "  <matplotlib.axis.XTick at 0x7fd331d067f0>,\n",
       "  <matplotlib.axis.XTick at 0x7fd331d0e160>,\n",
       "  <matplotlib.axis.XTick at 0x7fd331d0e668>,\n",
       "  <matplotlib.axis.XTick at 0x7fd331d0eba8>],\n",
       " <a list of 37 Text xticklabel objects>)"
      ]
     },
     "execution_count": 119,
     "metadata": {},
     "output_type": "execute_result"
    },
    {
     "data": {
      "image/png": "[encoded data removed]",
      "text/plain": [
       "<Figure size 1152x648 with 1 Axes>"
      ]
     },
     "metadata": {},
     "output_type": "display_data"
    }
   ],
   "source": [
    "#Histograma\n",
    "lista_frecuencias = []\n",
    "for i in lista_general:\n",
    "    lista_frecuencias.append(str(i[1]))\n",
    "#Transformamos la lista a enteros\n",
    "lista_frec = np.array(lista_frecuencias).astype(int)\n",
    "#plt.axes((0.1, 0.3, 0.8, 0.6))  # Definimos la posición de los ejes\n",
    "plt.bar(lista_posible, lista_frec)  # Dibujamos el gráfico de barras\n",
    "#plt.ylim(550,650)  # Limitamos los valores del eje y\n",
    "plt.title('HISTOGRAMA')  # Colocamos el título\n",
    "plt.xlabel('valores ruleta') # Nombre x\n",
    "plt.ylabel('frecuencia absoluta') # Nombre y\n",
    "plt.xticks(lista_posible, lista_posible, rotation = 0) #ponemos valores posibles en eje x"
   ]
  },
  {
   "cell_type": "code",
   "execution_count": null,
   "metadata": {},
   "outputs": [],
   "source": []
  }
 ],
 "metadata": {
  "kernelspec": {
   "display_name": "Python 3",
   "language": "python",
   "name": "python3"
  },
  "language_info": {
   "codemirror_mode": {
    "name": "ipython",
    "version": 3
   },
   "file_extension": ".py",
   "mimetype": "text/x-python",
   "name": "python",
   "nbconvert_exporter": "python",
   "pygments_lexer": "ipython3",
   "version": "3.6.7"
  }
 },
 "nbformat": 4,
 "nbformat_minor": 2
}
